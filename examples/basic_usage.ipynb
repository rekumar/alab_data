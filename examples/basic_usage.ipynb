{
 "cells": [
  {
   "cell_type": "code",
   "execution_count": 59,
   "metadata": {},
   "outputs": [],
   "source": [
    "from alab_data import Sample, Material, Action, Measurement, Analysis, Ingredient, WholeIngredient, Actor, AnalysisMethod\n",
    "import alab_data.views as views\n",
    "from alab_data.utils.dev import drop_collections"
   ]
  },
  {
   "cell_type": "code",
   "execution_count": 2,
   "metadata": {},
   "outputs": [],
   "source": [
    "drop_collections() #clear the whole database"
   ]
  },
  {
   "cell_type": "markdown",
   "metadata": {},
   "source": [
    "# 1. Defining Actors and AnalysisMethods \n",
    "\n",
    "These entries allow us to track which hardware, software, and operators are performing tasks within the experimental database.\n",
    "\n",
    "`Actor`s perform synthesis `Action`s and `Measurements`. `AnalysisMethods` convert raw `Measurement`s into some useful metrics\n",
    "\n",
    "You only need to _add_ `Actor`s and `AnalysisMethods` once. In the future, you can pull these entries from the database to relate them to incoming data"
   ]
  },
  {
   "cell_type": "markdown",
   "metadata": {},
   "source": [
    "Add or pull all Actor's from the ActorView"
   ]
  },
  {
   "cell_type": "code",
   "execution_count": 2,
   "metadata": {},
   "outputs": [],
   "source": [
    "actorview = views.ActorView() #this is our interface to the Actor database collection"
   ]
  },
  {
   "cell_type": "code",
   "execution_count": 3,
   "metadata": {},
   "outputs": [
    {
     "data": {
      "text/plain": [
       "[]"
      ]
     },
     "execution_count": 3,
     "metadata": {},
     "output_type": "execute_result"
    }
   ],
   "source": [
    "actorview.get_by_tags([\"SolidStateALab\"]) #nothing yet\n"
   ]
  },
  {
   "cell_type": "code",
   "execution_count": 4,
   "metadata": {},
   "outputs": [
    {
     "data": {
      "text/plain": [
       "ObjectId('63b4846059d804bbe41fba15')"
      ]
     },
     "execution_count": 4,
     "metadata": {},
     "output_type": "execute_result"
    }
   ],
   "source": [
    "labman = Actor(\n",
    "    name=\"LabMan 30-105\", \n",
    "    tags=[\"SolidStateALab\"],\n",
    "    description=\"A robotic system that weighs and mixes powders in crucibles. Used to prepare samples for firing in furnaces. This is in building 30-105 at Lawrence Berkeley National Laboratory.\")\n",
    "\n",
    "tubefurnace1 = Actor(\n",
    "    name=\"TubeFurnace1 30-105\", \n",
    "    tags=[\"SolidStateALab\"],\n",
    "    description=\"A tube furnace in building 30-105 at Lawrence Berkeley National Laboratory.\")\n",
    "\n",
    "aeris = Actor(\n",
    "    name=\"Aeris 30-105\",\n",
    "    tags=[\"SolidStateALab\"],\n",
    "    description=\"An x-ray diffractometer. This is in building 30-105 at Lawrence Berkeley National Laboratory.\")\n",
    "\n",
    "operator = Actor(\n",
    "    name=\"Operator\",\n",
    "    description = \"A generic actor for any operation performed by a human. No need to name names!\")\n",
    "    \n",
    "actorview.add(labman)\n",
    "actorview.add(tubefurnace1)\n",
    "actorview.add(aeris)\n",
    "actorview.add(operator)"
   ]
  },
  {
   "cell_type": "code",
   "execution_count": 5,
   "metadata": {},
   "outputs": [
    {
     "data": {
      "text/plain": [
       "[<Actor: LabMan 30-105>, <Actor: TubeFurnace1 30-105>, <Actor: Aeris 30-105>]"
      ]
     },
     "execution_count": 5,
     "metadata": {},
     "output_type": "execute_result"
    }
   ],
   "source": [
    "actorview.get_by_tags([\"SolidStateALab\"])   #now we can find actors by tags"
   ]
  },
  {
   "cell_type": "code",
   "execution_count": 6,
   "metadata": {},
   "outputs": [
    {
     "data": {
      "text/plain": [
       "[<Actor: LabMan 30-105>]"
      ]
     },
     "execution_count": 6,
     "metadata": {},
     "output_type": "execute_result"
    }
   ],
   "source": [
    "labman = actorview.get_by_name(\"LabMan 30-105\")\n",
    "labman"
   ]
  },
  {
   "cell_type": "code",
   "execution_count": 7,
   "metadata": {},
   "outputs": [
    {
     "data": {
      "text/plain": [
       "[<Actor: LabMan 30-105>]"
      ]
     },
     "execution_count": 7,
     "metadata": {},
     "output_type": "execute_result"
    }
   ],
   "source": [
    "actorview.filter(\n",
    "    {\"name\": \"LabMan 30-105\",\n",
    "     \"tags\": \"SolidStateALab\"\n",
    "}) #if you are comfortable with MongoDB queries, you can use the filter method"
   ]
  },
  {
   "cell_type": "markdown",
   "metadata": {},
   "source": [
    "Add or pull all analysis methods from AnalysisMethodView"
   ]
  },
  {
   "cell_type": "code",
   "execution_count": 8,
   "metadata": {},
   "outputs": [],
   "source": [
    "analysismethodview = views.AnalysisMethodView()"
   ]
  },
  {
   "cell_type": "code",
   "execution_count": 9,
   "metadata": {},
   "outputs": [
    {
     "data": {
      "text/plain": [
       "ObjectId('63b4846059d804bbe41fba1c')"
      ]
     },
     "execution_count": 9,
     "metadata": {},
     "output_type": "execute_result"
    }
   ],
   "source": [
    "cnn_phaseID = AnalysisMethod(\n",
    "    name=\"CNN Phase ID\", \n",
    "    tags=[\"SolidStateALab\", \"machinelearning\"],\n",
    "    description=\"A convolutional neural network trained to identify phases in x-ray diffraction patterns. doi: something/something\")\n",
    "\n",
    "analysismethodview.add(cnn_phaseID)"
   ]
  },
  {
   "cell_type": "code",
   "execution_count": 10,
   "metadata": {},
   "outputs": [
    {
     "data": {
      "text/plain": [
       "[<AnalysisMethod: CNN Phase ID>]"
      ]
     },
     "execution_count": 10,
     "metadata": {},
     "output_type": "execute_result"
    }
   ],
   "source": [
    "analysismethodview.get_by_name(\"CNN Phase ID\")"
   ]
  },
  {
   "cell_type": "code",
   "execution_count": 11,
   "metadata": {},
   "outputs": [
    {
     "data": {
      "text/plain": [
       "[<AnalysisMethod: CNN Phase ID>]"
      ]
     },
     "execution_count": 11,
     "metadata": {},
     "output_type": "execute_result"
    }
   ],
   "source": [
    "analysismethodview.filter(\n",
    "    {\"tags\": {\"$all\": [\"machinelearning\", \"SolidStateALab\"]}}\n",
    ")"
   ]
  },
  {
   "cell_type": "markdown",
   "metadata": {},
   "source": [
    "# 2. Entering experimental data into the database"
   ]
  },
  {
   "cell_type": "markdown",
   "metadata": {},
   "source": [
    "First, we must define the individual nodes (`Action`, `Material`, `Measurement`, and `Analysis`) that will comprise the experimental steps and data for a given `Sample`"
   ]
  },
  {
   "cell_type": "code",
   "execution_count": 12,
   "metadata": {},
   "outputs": [],
   "source": [
    "m0 = Material(\n",
    "    name=\"Titanium Dioxide\",\n",
    "    formula=\"TiO2\",\n",
    ")\n",
    "\n",
    "p0 = Action(    \n",
    "    name=\"procurement\",\n",
    "    generated_materials=[m0],\n",
    "    actor=operator,\n",
    ")"
   ]
  },
  {
   "cell_type": "code",
   "execution_count": 13,
   "metadata": {},
   "outputs": [],
   "source": [
    "p1 = Action(\n",
    "    \"grind\",\n",
    "    ingredients = [\n",
    "        Ingredient(\n",
    "            material=m0,\n",
    "            amount=1,\n",
    "            unit=\"g\",\n",
    "        )\n",
    "    ],\n",
    "    actor=operator,\n",
    "    )\n",
    "m1 = p1.make_generic_generated_material()\n",
    "\n",
    "p2 = Action(\"sinter\", ingredients = [WholeIngredient(m1)], actor=tubefurnace1)\n",
    "m2 = p2.make_generic_generated_material()\n",
    "\n",
    "p3 = Action(\"grind\", ingredients = [WholeIngredient(m2)], actor=operator, final_step=True)\n",
    "m3 = p3.make_generic_generated_material()\n",
    "\n",
    "me0 = Measurement(\n",
    "    name=\"XRD\",\n",
    "    material=m3,\n",
    "    actor=aeris,\n",
    ")\n",
    "\n",
    "a0 = Analysis(\n",
    "    name=\"Phase Identification\",\n",
    "    measurements=[me0],\n",
    "    analysis_method=cnn_phaseID\n",
    ")"
   ]
  },
  {
   "cell_type": "markdown",
   "metadata": {},
   "source": [
    "Next, we will assign these nodes to a single `Sample`. This can be done manually in a few ways:"
   ]
  },
  {
   "cell_type": "code",
   "execution_count": 14,
   "metadata": {},
   "outputs": [],
   "source": [
    "all_nodes = [p0, m0, p1, m1, p2, m2, p3, m3, me0, a0]\n",
    "\n",
    "#if you have all nodes beforehand\n",
    "s = Sample(name=\"first_sample\", nodes=all_nodes)\n",
    "\n",
    "#if you build nodes as you go. Maybe you want to build up the Sample object during the experiment?\n",
    "s = Sample(name=\"first_sample_again\")\n",
    "for n in all_nodes:\n",
    "    s.add_node(n)"
   ]
  },
  {
   "cell_type": "markdown",
   "metadata": {},
   "source": [
    "We can check that the nodes within the Sample constitute a valid directed acyclic graph (DAG).\n",
    "\n",
    "If this returns `False`, we didn't connect the nodes correctly."
   ]
  },
  {
   "cell_type": "code",
   "execution_count": 15,
   "metadata": {},
   "outputs": [
    {
     "data": {
      "text/plain": [
       "True"
      ]
     },
     "execution_count": 15,
     "metadata": {},
     "output_type": "execute_result"
    }
   ],
   "source": [
    "s.has_valid_graph()"
   ]
  },
  {
   "cell_type": "markdown",
   "metadata": {},
   "source": [
    "Up til now, the `Sample` object only lives in this notebook. Now we need to upload it into the database."
   ]
  },
  {
   "cell_type": "code",
   "execution_count": 16,
   "metadata": {},
   "outputs": [],
   "source": [
    "from alab_data.views.groups import SampleView\n",
    "sv = SampleView()"
   ]
  },
  {
   "cell_type": "markdown",
   "metadata": {},
   "source": [
    "`SampleView.add(sample)` does a few things. \n",
    "\n",
    "- First, it ensures that new nodes will not break the graph structures of the total database (at this point, ensures no dangling nodes)\n",
    "- Second, it uploads the individual nodes into their respective collections\n",
    "- Finally, it uploads the `Sample` entry to the sample collection, which maps the `Sample` to the individual nodes."
   ]
  },
  {
   "cell_type": "code",
   "execution_count": 17,
   "metadata": {},
   "outputs": [
    {
     "data": {
      "text/plain": [
       "ObjectId('63b4846359d804bbe41fba2a')"
      ]
     },
     "execution_count": 17,
     "metadata": {},
     "output_type": "execute_result"
    }
   ],
   "source": [
    "sv.add(s)"
   ]
  },
  {
   "cell_type": "code",
   "execution_count": 60,
   "metadata": {},
   "outputs": [],
   "source": [
    "s1 = sv.get(s.id)"
   ]
  },
  {
   "cell_type": "code",
   "execution_count": 63,
   "metadata": {},
   "outputs": [],
   "source": [
    "import networkx as nx"
   ]
  },
  {
   "cell_type": "code",
   "execution_count": 67,
   "metadata": {},
   "outputs": [
    {
     "data": {
      "text/plain": [
       "{ObjectId('63b484a259d804bbe41fba96'): {ObjectId('63b484a659d804bbe41fbaa3'): {}},\n",
       " ObjectId('63b484a259d804bbe41fba97'): {ObjectId('63b484a259d804bbe41fba96'): {}},\n",
       " ObjectId('63b484a659d804bbe41fbaa3'): {}}"
      ]
     },
     "execution_count": 67,
     "metadata": {},
     "output_type": "execute_result"
    }
   ],
   "source": [
    "nx.to_dict_of_dicts(s1.graph)"
   ]
  },
  {
   "cell_type": "code",
   "execution_count": 68,
   "metadata": {},
   "outputs": [],
   "source": [
    "from alab_data.views import SampleView, MeasurementView, MaterialView, ActionView, AnalysisView\n",
    "\n",
    "node_views = {\n",
    "    \"measurement\": MeasurementView(),\n",
    "    \"material\": MaterialView(),\n",
    "    \"action\": ActionView(),\n",
    "    \"analysis\": AnalysisView(),\n",
    "}\n"
   ]
  },
  {
   "cell_type": "code",
   "execution_count": 71,
   "metadata": {},
   "outputs": [],
   "source": [
    "nodes = []\n",
    "edges = []\n",
    "\n",
    "g = nx.DiGraph()\n",
    "\n",
    "for node_type, view in node_views.items():\n",
    "    for node in view._collection.find():\n",
    "        upstream = node.pop(\"upstream\")\n",
    "        downstream = node.pop(\"downstream\")\n",
    "        g.add_node(node[\"_id\"], type=node_type, **node)\n",
    "        for u in upstream:\n",
    "            g.add_edge(u[\"node_id\"], node[\"_id\"])\n",
    "        for d in downstream:\n",
    "            g.add_edge(node[\"_id\"], d[\"node_id\"])\n",
    "\n",
    "# layout = graphviz_layout(g, prog=\"dot\")\n",
    "# nodes_with_coordinates = []"
   ]
  },
  {
   "cell_type": "code",
   "execution_count": 78,
   "metadata": {},
   "outputs": [
    {
     "ename": "ImportError",
     "evalue": "requires pygraphviz http://pygraphviz.github.io/",
     "output_type": "error",
     "traceback": [
      "\u001b[0;31m---------------------------------------------------------------------------\u001b[0m",
      "\u001b[0;31mImportError\u001b[0m                               Traceback (most recent call last)",
      "File \u001b[0;32m~/opt/miniconda3/envs/alab_data/lib/python3.8/site-packages/networkx/drawing/nx_agraph.py:284\u001b[0m, in \u001b[0;36mpygraphviz_layout\u001b[0;34m(G, prog, root, args)\u001b[0m\n\u001b[1;32m    283\u001b[0m \u001b[39mtry\u001b[39;00m:\n\u001b[0;32m--> 284\u001b[0m     \u001b[39mimport\u001b[39;00m \u001b[39mpygraphviz\u001b[39;00m\n\u001b[1;32m    285\u001b[0m \u001b[39mexcept\u001b[39;00m \u001b[39mImportError\u001b[39;00m \u001b[39mas\u001b[39;00m err:\n",
      "File \u001b[0;32m~/opt/miniconda3/envs/alab_data/lib/python3.8/site-packages/pygraphviz/__init__.py:24\u001b[0m, in \u001b[0;36m<module>\u001b[0;34m\u001b[0m\n\u001b[1;32m     22\u001b[0m __version__ \u001b[39m=\u001b[39m \u001b[39m\"\u001b[39m\u001b[39m1.10\u001b[39m\u001b[39m\"\u001b[39m\n\u001b[0;32m---> 24\u001b[0m \u001b[39mfrom\u001b[39;00m \u001b[39m.\u001b[39;00m\u001b[39magraph\u001b[39;00m \u001b[39mimport\u001b[39;00m AGraph, Node, Edge, Attribute, ItemAttribute, DotError\n\u001b[1;32m     26\u001b[0m __all__ \u001b[39m=\u001b[39m [\u001b[39m\"\u001b[39m\u001b[39mAGraph\u001b[39m\u001b[39m\"\u001b[39m, \u001b[39m\"\u001b[39m\u001b[39mNode\u001b[39m\u001b[39m\"\u001b[39m, \u001b[39m\"\u001b[39m\u001b[39mEdge\u001b[39m\u001b[39m\"\u001b[39m, \u001b[39m\"\u001b[39m\u001b[39mAttribute\u001b[39m\u001b[39m\"\u001b[39m, \u001b[39m\"\u001b[39m\u001b[39mItemAttribute\u001b[39m\u001b[39m\"\u001b[39m, \u001b[39m\"\u001b[39m\u001b[39mDotError\u001b[39m\u001b[39m\"\u001b[39m]\n",
      "File \u001b[0;32m~/opt/miniconda3/envs/alab_data/lib/python3.8/site-packages/pygraphviz/agraph.py:15\u001b[0m, in \u001b[0;36m<module>\u001b[0;34m\u001b[0m\n\u001b[1;32m     13\u001b[0m \u001b[39mimport\u001b[39;00m \u001b[39mio\u001b[39;00m\n\u001b[0;32m---> 15\u001b[0m \u001b[39mfrom\u001b[39;00m \u001b[39m.\u001b[39;00m \u001b[39mimport\u001b[39;00m graphviz \u001b[39mas\u001b[39;00m gv\n\u001b[1;32m     17\u001b[0m _DEFAULT_ENCODING \u001b[39m=\u001b[39m \u001b[39m\"\u001b[39m\u001b[39mUTF-8\u001b[39m\u001b[39m\"\u001b[39m\n",
      "File \u001b[0;32m~/opt/miniconda3/envs/alab_data/lib/python3.8/site-packages/pygraphviz/graphviz.py:13\u001b[0m, in \u001b[0;36m<module>\u001b[0;34m\u001b[0m\n\u001b[1;32m     12\u001b[0m \u001b[39mif\u001b[39;00m __package__ \u001b[39mor\u001b[39;00m \u001b[39m\"\u001b[39m\u001b[39m.\u001b[39m\u001b[39m\"\u001b[39m \u001b[39min\u001b[39;00m \u001b[39m__name__\u001b[39m:\n\u001b[0;32m---> 13\u001b[0m     \u001b[39mfrom\u001b[39;00m \u001b[39m.\u001b[39;00m \u001b[39mimport\u001b[39;00m _graphviz\n\u001b[1;32m     14\u001b[0m \u001b[39melse\u001b[39;00m:\n",
      "\u001b[0;31mImportError\u001b[0m: dlopen(/Users/REKumar/opt/miniconda3/envs/alab_data/lib/python3.8/site-packages/pygraphviz/_graphviz.cpython-38-darwin.so, 0x0002): Library not loaded: @rpath/libcdt.5.dylib\n  Referenced from: /Users/REKumar/opt/miniconda3/envs/alab_data/lib/python3.8/site-packages/pygraphviz/_graphviz.cpython-38-darwin.so\n  Reason: tried: '/Users/REKumar/opt/miniconda3/envs/alab_data/lib/libcdt.5.dylib' (no such file), '/Users/REKumar/opt/miniconda3/envs/alab_data/bin/../lib/libcdt.5.dylib' (no such file), '/Users/REKumar/opt/miniconda3/envs/alab_data/lib/libcdt.5.dylib' (no such file), '/Users/REKumar/opt/miniconda3/envs/alab_data/bin/../lib/libcdt.5.dylib' (no such file), '/usr/local/lib/libcdt.5.dylib' (no such file), '/usr/lib/libcdt.5.dylib' (no such file)",
      "\nThe above exception was the direct cause of the following exception:\n",
      "\u001b[0;31mImportError\u001b[0m                               Traceback (most recent call last)",
      "\u001b[1;32m/Users/REKumar/GitHub/alab_data/examples/basic_usage.ipynb Cell 33\u001b[0m in \u001b[0;36m<cell line: 3>\u001b[0;34m()\u001b[0m\n\u001b[1;32m      <a href='vscode-notebook-cell:/Users/REKumar/GitHub/alab_data/examples/basic_usage.ipynb#Y146sZmlsZQ%3D%3D?line=0'>1</a>\u001b[0m \u001b[39mfrom\u001b[39;00m \u001b[39mnetworkx\u001b[39;00m\u001b[39m.\u001b[39;00m\u001b[39mdrawing\u001b[39;00m\u001b[39m.\u001b[39;00m\u001b[39mnx_agraph\u001b[39;00m \u001b[39mimport\u001b[39;00m graphviz_layout\n\u001b[0;32m----> <a href='vscode-notebook-cell:/Users/REKumar/GitHub/alab_data/examples/basic_usage.ipynb#Y146sZmlsZQ%3D%3D?line=2'>3</a>\u001b[0m layout \u001b[39m=\u001b[39m graphviz_layout(g, prog\u001b[39m=\u001b[39;49m\u001b[39m\"\u001b[39;49m\u001b[39mdot\u001b[39;49m\u001b[39m\"\u001b[39;49m)\n",
      "File \u001b[0;32m~/opt/miniconda3/envs/alab_data/lib/python3.8/site-packages/networkx/drawing/nx_agraph.py:242\u001b[0m, in \u001b[0;36mgraphviz_layout\u001b[0;34m(G, prog, root, args)\u001b[0m\n\u001b[1;32m    214\u001b[0m \u001b[39mdef\u001b[39;00m \u001b[39mgraphviz_layout\u001b[39m(G, prog\u001b[39m=\u001b[39m\u001b[39m\"\u001b[39m\u001b[39mneato\u001b[39m\u001b[39m\"\u001b[39m, root\u001b[39m=\u001b[39m\u001b[39mNone\u001b[39;00m, args\u001b[39m=\u001b[39m\u001b[39m\"\u001b[39m\u001b[39m\"\u001b[39m):\n\u001b[1;32m    215\u001b[0m     \u001b[39m\"\"\"Create node positions for G using Graphviz.\u001b[39;00m\n\u001b[1;32m    216\u001b[0m \n\u001b[1;32m    217\u001b[0m \u001b[39m    Parameters\u001b[39;00m\n\u001b[0;32m   (...)\u001b[0m\n\u001b[1;32m    240\u001b[0m \u001b[39m    This is a wrapper for pygraphviz_layout.\u001b[39;00m\n\u001b[1;32m    241\u001b[0m \u001b[39m    \"\"\"\u001b[39;00m\n\u001b[0;32m--> 242\u001b[0m     \u001b[39mreturn\u001b[39;00m pygraphviz_layout(G, prog\u001b[39m=\u001b[39;49mprog, root\u001b[39m=\u001b[39;49mroot, args\u001b[39m=\u001b[39;49margs)\n",
      "File \u001b[0;32m~/opt/miniconda3/envs/alab_data/lib/python3.8/site-packages/networkx/drawing/nx_agraph.py:286\u001b[0m, in \u001b[0;36mpygraphviz_layout\u001b[0;34m(G, prog, root, args)\u001b[0m\n\u001b[1;32m    284\u001b[0m     \u001b[39mimport\u001b[39;00m \u001b[39mpygraphviz\u001b[39;00m\n\u001b[1;32m    285\u001b[0m \u001b[39mexcept\u001b[39;00m \u001b[39mImportError\u001b[39;00m \u001b[39mas\u001b[39;00m err:\n\u001b[0;32m--> 286\u001b[0m     \u001b[39mraise\u001b[39;00m \u001b[39mImportError\u001b[39;00m(\n\u001b[1;32m    287\u001b[0m         \u001b[39m\"\u001b[39m\u001b[39mrequires pygraphviz \u001b[39m\u001b[39m\"\u001b[39m \u001b[39m\"\u001b[39m\u001b[39mhttp://pygraphviz.github.io/\u001b[39m\u001b[39m\"\u001b[39m\n\u001b[1;32m    288\u001b[0m     ) \u001b[39mfrom\u001b[39;00m \u001b[39merr\u001b[39;00m\n\u001b[1;32m    289\u001b[0m \u001b[39mif\u001b[39;00m root \u001b[39mis\u001b[39;00m \u001b[39mnot\u001b[39;00m \u001b[39mNone\u001b[39;00m:\n\u001b[1;32m    290\u001b[0m     args \u001b[39m+\u001b[39m\u001b[39m=\u001b[39m \u001b[39mf\u001b[39m\u001b[39m\"\u001b[39m\u001b[39m-Groot=\u001b[39m\u001b[39m{\u001b[39;00mroot\u001b[39m}\u001b[39;00m\u001b[39m\"\u001b[39m\n",
      "\u001b[0;31mImportError\u001b[0m: requires pygraphviz http://pygraphviz.github.io/"
     ]
    }
   ],
   "source": [
    "from networkx.drawing.nx_agraph import graphviz_layout\n",
    "\n",
    "layout = graphviz_layout(g, prog=\"dot\")"
   ]
  },
  {
   "cell_type": "code",
   "execution_count": 75,
   "metadata": {},
   "outputs": [
    {
     "name": "stdout",
     "output_type": "stream",
     "text": [
      "63856faf3b17f370e5b12b76\n",
      "{'type': 'measurement', '_id': ObjectId('63856faf3b17f370e5b12b76'), 'name': 'XRD', 'tags': [], 'actor_id': ObjectId('63856fa8f7f9db28bcddf0f3'), 'created_at': datetime.datetime(2022, 11, 28, 18, 34, 23, 884000), 'updated_at': datetime.datetime(2022, 11, 28, 18, 34, 31, 531000)}\n"
     ]
    }
   ],
   "source": [
    "for nodeid, node in g.nodes(data=True):\n",
    "    print(nodeid)\n",
    "    print(node)\n",
    "    break"
   ]
  },
  {
   "cell_type": "code",
   "execution_count": 19,
   "metadata": {},
   "outputs": [
    {
     "data": {
      "text/plain": [
       "[<Sample: first_sample_again>]"
      ]
     },
     "execution_count": 19,
     "metadata": {},
     "output_type": "execute_result"
    }
   ],
   "source": [
    "sv.get_by_name(\"first_sample_again\")"
   ]
  },
  {
   "cell_type": "code",
   "execution_count": 20,
   "metadata": {},
   "outputs": [
    {
     "data": {
      "text/plain": [
       "True"
      ]
     },
     "execution_count": 20,
     "metadata": {},
     "output_type": "execute_result"
    }
   ],
   "source": [
    "s1 == s"
   ]
  },
  {
   "cell_type": "markdown",
   "metadata": {},
   "source": [
    "We cannot add the same sample twice. If you have duplicate samples, you should rebuild a new `Sample` object instance."
   ]
  },
  {
   "cell_type": "code",
   "execution_count": 21,
   "metadata": {},
   "outputs": [
    {
     "ename": "ValueError",
     "evalue": "Sample (name=first_sample_again, id=63b4846359d804bbe41fba2a) already exists in the database!",
     "output_type": "error",
     "traceback": [
      "\u001b[0;31m---------------------------------------------------------------------------\u001b[0m",
      "\u001b[0;31mValueError\u001b[0m                                Traceback (most recent call last)",
      "\u001b[1;32m/Users/REKumar/GitHub/alab_data/examples/basic_usage.ipynb Cell 32\u001b[0m in \u001b[0;36m<cell line: 1>\u001b[0;34m()\u001b[0m\n\u001b[0;32m----> <a href='vscode-notebook-cell:/Users/REKumar/GitHub/alab_data/examples/basic_usage.ipynb#X43sZmlsZQ%3D%3D?line=0'>1</a>\u001b[0m sv\u001b[39m.\u001b[39;49madd(s1)\n",
      "File \u001b[0;32m~/GitHub/alab_data/alab_data/views/groups.py:44\u001b[0m, in \u001b[0;36mSampleView.add\u001b[0;34m(self, entry, additional_incoming_node_ids)\u001b[0m\n\u001b[1;32m     42\u001b[0m     \u001b[39mpass\u001b[39;00m\n\u001b[1;32m     43\u001b[0m \u001b[39mif\u001b[39;00m found_in_db:\n\u001b[0;32m---> 44\u001b[0m     \u001b[39mraise\u001b[39;00m \u001b[39mValueError\u001b[39;00m(\n\u001b[1;32m     45\u001b[0m         \u001b[39mf\u001b[39m\u001b[39m\"\u001b[39m\u001b[39m{\u001b[39;00m\u001b[39mself\u001b[39m\u001b[39m.\u001b[39m_entry_class\u001b[39m.\u001b[39m\u001b[39m__name__\u001b[39m\u001b[39m}\u001b[39;00m\u001b[39m (name=\u001b[39m\u001b[39m{\u001b[39;00mentry\u001b[39m.\u001b[39mname\u001b[39m}\u001b[39;00m\u001b[39m, id=\u001b[39m\u001b[39m{\u001b[39;00mentry\u001b[39m.\u001b[39mid\u001b[39m}\u001b[39;00m\u001b[39m) already exists in the database!\u001b[39m\u001b[39m\"\u001b[39m\n\u001b[1;32m     46\u001b[0m     )\n\u001b[1;32m     47\u001b[0m \u001b[39mself\u001b[39m\u001b[39m.\u001b[39m_check_if_nodes_are_valid(\n\u001b[1;32m     48\u001b[0m     entry\n\u001b[1;32m     49\u001b[0m )  \u001b[39m# will throw error if any nodes cannot be encoded to BSON\u001b[39;00m\n\u001b[1;32m     51\u001b[0m \u001b[39mif\u001b[39;00m \u001b[39mnot\u001b[39;00m \u001b[39mself\u001b[39m\u001b[39m.\u001b[39m_has_valid_graph_in_db(\n\u001b[1;32m     52\u001b[0m     entry, additional_incoming_node_ids\u001b[39m=\u001b[39madditional_incoming_node_ids\n\u001b[1;32m     53\u001b[0m ):\n",
      "\u001b[0;31mValueError\u001b[0m: Sample (name=first_sample_again, id=63b4846359d804bbe41fba2a) already exists in the database!"
     ]
    }
   ],
   "source": [
    "sv.add(s1)"
   ]
  },
  {
   "cell_type": "markdown",
   "metadata": {},
   "source": [
    "## Shortcut to building `Sample`'s with a simple, linear process\n",
    "\n",
    "As experimentalists, we often only know the initial `Material`'s and the sequence of synthesis `Action`'s. This is a simple linear graph, for which we have a shortcut method to skip the tedium of generating intermediate `Material`'s with which we do nothing.\n",
    "\n",
    "Define your `Action`s as well as you can (_ie_ fill in the ingredients and generated_materials wherever possible). The rest will be filled in with generic, placeholder `Material`'s to stitch the `Action`'s into a valid graph."
   ]
  },
  {
   "cell_type": "code",
   "execution_count": 22,
   "metadata": {},
   "outputs": [],
   "source": [
    "# I know the starting material quite well, so I define it as usual.\n",
    "m0 = Material(\n",
    "    name=\"Titanium Dioxide\",\n",
    "    formula=\"TiO2\",\n",
    ")\n",
    "\n",
    "p0 = Action(    \n",
    "    name=\"procurement\",\n",
    "    generated_materials=[m0],\n",
    "    actor=operator,\n",
    ")"
   ]
  },
  {
   "cell_type": "code",
   "execution_count": 23,
   "metadata": {},
   "outputs": [],
   "source": [
    "# I know what was done by which actors, but thats about it.\n",
    "p1 = Action(\n",
    "    \"grind\",\n",
    "    actor=operator,\n",
    "    )\n",
    "p2 = Action(\"sinter\", actor=tubefurnace1)\n",
    "p3 = Action(\"grind\", actor=operator, final_step=True)"
   ]
  },
  {
   "cell_type": "markdown",
   "metadata": {},
   "source": [
    "Now I can use the shortcut to build the linear `... Action -> Material -> Action ...` graph."
   ]
  },
  {
   "cell_type": "code",
   "execution_count": 24,
   "metadata": {},
   "outputs": [],
   "source": [
    "# I know that the processes will generate materials in a pipeline, so lets add them as a linear process\n",
    "s = Sample(name=\"shortcut_sample\")\n",
    "s.add_linear_process(actions=[p0, p1, p2, p3])"
   ]
  },
  {
   "cell_type": "code",
   "execution_count": 25,
   "metadata": {},
   "outputs": [
    {
     "data": {
      "text/plain": [
       "True"
      ]
     },
     "execution_count": 25,
     "metadata": {},
     "output_type": "execute_result"
    }
   ],
   "source": [
    "# I also know that I measured the output of the linear process. This is the latest node in the graph -- the output Material from the final Action.\n",
    "\n",
    "m_final = s.nodes[-1]\n",
    "\n",
    "me0 = Measurement(\n",
    "    name=\"XRD\",\n",
    "    material=m_final,\n",
    "    actor=aeris,\n",
    ")\n",
    "\n",
    "a0 = Analysis(\n",
    "    name=\"Phase Identification\",\n",
    "    measurements=[me0],\n",
    "    analysis_method=cnn_phaseID\n",
    ")\n",
    "\n",
    "s.add_node(me0)\n",
    "s.add_node(a0)\n",
    "s.has_valid_graph()"
   ]
  },
  {
   "cell_type": "code",
   "execution_count": 26,
   "metadata": {},
   "outputs": [
    {
     "data": {
      "text/plain": [
       "ObjectId('63b4846859d804bbe41fba84')"
      ]
     },
     "execution_count": 26,
     "metadata": {},
     "output_type": "execute_result"
    }
   ],
   "source": [
    "sv.add(s)"
   ]
  },
  {
   "cell_type": "markdown",
   "metadata": {},
   "source": [
    "-----"
   ]
  },
  {
   "cell_type": "markdown",
   "metadata": {},
   "source": [
    "# 3. A realistic example\n",
    "\n",
    "In the prior examples, only the required information has been provided to generate the experiment graph + add to the database. In real life, we want to attach metadata (process parameters, measured data, etc) to the graph nodes. This is pretty easy -- just pass them as additional keyword arguments when you define the nodes. Here is the same example, but with some metadata attached."
   ]
  },
  {
   "cell_type": "markdown",
   "metadata": {},
   "source": [
    "Lets import all the views we need to get the `Actor`s and `AnalysisMethod`s for our new data"
   ]
  },
  {
   "cell_type": "code",
   "execution_count": 27,
   "metadata": {},
   "outputs": [],
   "source": [
    "from alab_data import views\n",
    "sv = views.SampleView()\n",
    "actorview = views.ActorView()\n",
    "analysismethodview = views.AnalysisMethodView()"
   ]
  },
  {
   "cell_type": "markdown",
   "metadata": {},
   "source": [
    "## Procurement step -- generating Material's to be used by downstream Samples\n",
    "\n",
    "We purchased some new chemicals (ie `Material`s), which should be added into the database. Once in the database, they can be referenced by nodes for a future `Sample`"
   ]
  },
  {
   "cell_type": "code",
   "execution_count": 28,
   "metadata": {},
   "outputs": [],
   "source": [
    "operator = actorview.get_by_name(\"Operator\")[0]"
   ]
  },
  {
   "cell_type": "code",
   "execution_count": 32,
   "metadata": {},
   "outputs": [
    {
     "data": {
      "text/plain": [
       "ObjectId('63b484a359d804bbe41fba9b')"
      ]
     },
     "execution_count": 32,
     "metadata": {},
     "output_type": "execute_result"
    }
   ],
   "source": [
    "tio2 = Material(\n",
    "    name=\"Titanium Dioxide\",\n",
    "    formula=\"TiO2\",\n",
    "    serial_number = \"ABC123\",\n",
    ")\n",
    "\n",
    "p0 = Action(    \n",
    "    name=\"procurement\",\n",
    "    supplier=\"Alfa Aesar\",\n",
    "    CAS_number = \"13463-67-7\",\n",
    "    price = \"$100/gram\",\n",
    "    generated_materials=[tio2],\n",
    "    actor=operator,\n",
    ")\n",
    "\n",
    "bi2o3 = Material(\n",
    "    name = \"Bismuth Oxide\",\n",
    "    formula = \"Bi2O3\",\n",
    "    serial_number = \"XYZ789\",\n",
    ")\n",
    "\n",
    "p1 = Action(\n",
    "    name=\"procurement\",\n",
    "    supplier=\"Alfa Aesar\",\n",
    "    CAS_number = \"1303-96-4\",\n",
    "    price = \"$100/gram\",\n",
    "    generated_materials=[bi2o3],\n",
    "    actor=operator,\n",
    ")\n",
    "\n",
    "### A Sample is, at a high level, just a way to group nodes together. We can consider the process of chemical procurement on this day as a Sample.\n",
    "s = Sample(\n",
    "    name=\"Chemical Procurement\", \n",
    "    nodes=[tio2, p0]\n",
    ")\n",
    "sv.add(s)\n",
    "\n",
    "s = Sample(\n",
    "    name=\"Chemical Procurement\",\n",
    "    nodes=[bi2o3, p1]\n",
    ")\n",
    "sv.add(s)\n"
   ]
  },
  {
   "cell_type": "markdown",
   "metadata": {},
   "source": [
    "## An actual Sample -- Actions, Measurements, and Analyses that use the procured Materials"
   ]
  },
  {
   "cell_type": "markdown",
   "metadata": {},
   "source": [
    "Pull the necessary actors and analysis methods"
   ]
  },
  {
   "cell_type": "code",
   "execution_count": 33,
   "metadata": {},
   "outputs": [],
   "source": [
    "operator = actorview.get_by_name(\"Operator\")[0]\n",
    "tubefurnace1 = actorview.get_by_name(\"TubeFurnace1 30-105\")[0]\n",
    "aeris = actorview.get_by_name(\"Aeris 30-105\")[0]\n",
    "\n",
    "cnn_phaseID = analysismethodview.get_by_name(\"CNN Phase ID\")[0]"
   ]
  },
  {
   "cell_type": "markdown",
   "metadata": {},
   "source": [
    "Pull the necessary Materials"
   ]
  },
  {
   "cell_type": "code",
   "execution_count": 34,
   "metadata": {},
   "outputs": [],
   "source": [
    "mv = views.MaterialView()\n",
    "\n",
    "tio2 = mv.filter({\n",
    "    \"name\": \"Titanium Dioxide\",\n",
    "    \"serial_number\": \"ABC123\" #this is the serial number of the specific bottle I used \n",
    "})[0]\n",
    "\n",
    "bi2o3 = mv.filter({\n",
    "    \"name\": \"Bismuth Oxide\",\n",
    "    \"serial_number\": \"XYZ789\" #this is the serial number of the specific bottle I used\n",
    "})[0]"
   ]
  },
  {
   "cell_type": "code",
   "execution_count": 35,
   "metadata": {},
   "outputs": [],
   "source": [
    "# I know what was done by which actors, but thats about it.\n",
    "p1 = Action(\n",
    "    \"grind\",\n",
    "    ingredients = [\n",
    "        Ingredient(\n",
    "            material=tio2,\n",
    "            amount = 1,\n",
    "            unit=\"g\"\n",
    "        ),\n",
    "        Ingredient(\n",
    "            material=bi2o3,\n",
    "            amount = 2,\n",
    "            unit=\"g\"\n",
    "        )\n",
    "    ],\n",
    "    actor=operator,\n",
    "    instrument=\"mortar and pestle\",\n",
    "    duration=\"1 hour\",\n",
    "    )\n",
    "p2 = Action(\n",
    "    \"sinter\", \n",
    "    actor=tubefurnace1, \n",
    "    temperature_celsius=1000,\n",
    "    duration_hours = 4,\n",
    ")\n",
    "p3 = Action(\n",
    "    \"grind\", \n",
    "    actor=operator, \n",
    "    final_step=True,\n",
    "    instrument=\"mortar and pestle\",\n",
    "    duration=\"1 hour\", #sounds like a rough day\n",
    "    )"
   ]
  },
  {
   "cell_type": "code",
   "execution_count": 36,
   "metadata": {},
   "outputs": [],
   "source": [
    "s = Sample(name=\"realistic_sample\")\n",
    "s.add_linear_process(actions=[p1, p2, p3])"
   ]
  },
  {
   "cell_type": "code",
   "execution_count": 37,
   "metadata": {},
   "outputs": [],
   "source": [
    "# I also know that I measured the outputs of p3. I'll make a generic output material to link to the Measurement.\n",
    "\n",
    "m_final = s.nodes[-1]\n",
    "\n",
    "me0 = Measurement(\n",
    "    name=\"XRD\",\n",
    "    material=m_final,\n",
    "    actor=aeris,\n",
    "    settings = {\n",
    "        \"angle_min\": 10,\n",
    "        \"angle_max\": 80,\n",
    "        \"angle_step\": 0.1,\n",
    "        \"exposure_time\": 0.1,\n",
    "    },\n",
    "    data = {\n",
    "        \"x\": [10, 20, 30, 40, 50, 60, 70, 80],\n",
    "        \"y\": [0.1, 0.2, 0.3, 0.4, 0.5, 0.6, 0.7, 0.8],\n",
    "    }\n",
    ")\n",
    "\n",
    "a0 = Analysis(\n",
    "    name=\"Phase Identification\",\n",
    "    measurements=[me0],\n",
    "    analysis_method=cnn_phaseID,\n",
    "    results = [\n",
    "        {\"phase\": \"TiO2\", \"ICSD_coll\": 1234, \"fraction\": 0.9},\n",
    "        {\"phase\": \"TiO\", \"ICSD_coll\": 5678, \"fraction\": 0.1},\n",
    "    ]\n",
    ")\n",
    "\n",
    "s.add_node(me0)\n",
    "s.add_node(a0)"
   ]
  },
  {
   "cell_type": "code",
   "execution_count": 38,
   "metadata": {},
   "outputs": [
    {
     "data": {
      "text/plain": [
       "True"
      ]
     },
     "execution_count": 38,
     "metadata": {},
     "output_type": "execute_result"
    }
   ],
   "source": [
    "s.has_valid_graph()"
   ]
  },
  {
   "cell_type": "code",
   "execution_count": 39,
   "metadata": {},
   "outputs": [
    {
     "data": {
      "text/plain": [
       "ObjectId('63b484a659d804bbe41fbaa6')"
      ]
     },
     "execution_count": 39,
     "metadata": {},
     "output_type": "execute_result"
    }
   ],
   "source": [
    "sv.add(s)"
   ]
  },
  {
   "cell_type": "code",
   "execution_count": 40,
   "metadata": {},
   "outputs": [
    {
     "data": {
      "text/plain": [
       "[<Material: Titanium Dioxide>,\n",
       " <Material: Bismuth Oxide>,\n",
       " <Action: grind>,\n",
       " <Material: Titanium Dioxide+Bismuth Oxide - grind>,\n",
       " <Action: sinter>,\n",
       " <Material: Titanium Dioxide+Bismuth Oxide - grind - sinter>,\n",
       " <Action: grind>,\n",
       " <Material: Titanium Dioxide+Bismuth Oxide - grind - sinter - grind>,\n",
       " <Measurement: XRD>,\n",
       " <Analysis: Phase Identification>]"
      ]
     },
     "execution_count": 40,
     "metadata": {},
     "output_type": "execute_result"
    }
   ],
   "source": [
    "s.nodes"
   ]
  },
  {
   "cell_type": "code",
   "execution_count": 41,
   "metadata": {},
   "outputs": [
    {
     "data": {
      "image/png": "[encoded data removed]",
      "text/plain": [
       "<Figure size 640x480 with 1 Axes>"
      ]
     },
     "metadata": {},
     "output_type": "display_data"
    }
   ],
   "source": [
    "s.plot() #the unlabeled nodes are not contained within this Sample, but are referenced by nodes within this Sample"
   ]
  },
  {
   "cell_type": "markdown",
   "metadata": {},
   "source": [
    "-----"
   ]
  },
  {
   "cell_type": "markdown",
   "metadata": {},
   "source": [
    "# 4. Pulling data out of the database"
   ]
  },
  {
   "cell_type": "code",
   "execution_count": 40,
   "metadata": {},
   "outputs": [],
   "source": [
    "import datetime"
   ]
  },
  {
   "cell_type": "code",
   "execution_count": 42,
   "metadata": {},
   "outputs": [
    {
     "name": "stdout",
     "output_type": "stream",
     "text": [
      "[<Material: Titanium Dioxide>]\n"
     ]
    }
   ],
   "source": [
    "matview = views.MaterialView()\n",
    "\n",
    "mats = matview.filter(\n",
    "    {\"serial_number\": \"ABC123\"},\n",
    ")\n",
    "print(mats)\n",
    "m = mats[-1]\n"
   ]
  },
  {
   "cell_type": "code",
   "execution_count": 43,
   "metadata": {},
   "outputs": [
    {
     "name": "stdout",
     "output_type": "stream",
     "text": [
      "[<Sample: realistic_sample>, <Sample: Chemical Procurement>]\n"
     ]
    }
   ],
   "source": [
    "samples = sv.get_by_material_node(m.id) #returns all Samples that contain a material node with the given id\n",
    "print(samples)"
   ]
  },
  {
   "cell_type": "markdown",
   "metadata": {},
   "source": [
    "## Comparing Sample's"
   ]
  },
  {
   "cell_type": "markdown",
   "metadata": {},
   "source": [
    "We can visually inspect `Sample` graphs "
   ]
  },
  {
   "cell_type": "code",
   "execution_count": 44,
   "metadata": {},
   "outputs": [
    {
     "data": {
      "image/png": "[encoded data removed]",
      "text/plain": [
       "<Figure size 640x480 with 1 Axes>"
      ]
     },
     "metadata": {},
     "output_type": "display_data"
    }
   ],
   "source": [
    "s = samples[-1]\n",
    "s.plot()"
   ]
  },
  {
   "cell_type": "code",
   "execution_count": 50,
   "metadata": {},
   "outputs": [
    {
     "data": {
      "image/png": "[encoded data removed]",
      "text/plain": [
       "<Figure size 640x480 with 1 Axes>"
      ]
     },
     "metadata": {},
     "output_type": "display_data"
    }
   ],
   "source": [
    "s = samples[0]\n",
    "s.plot()"
   ]
  },
  {
   "cell_type": "markdown",
   "metadata": {},
   "source": [
    "We often want to know whether `Sample`s can be compared. One way to evaluate this is to check if they followed the same processing steps (ie the same sequence of `Action`s). We can check this as the graph edit distance between graphs of only the Action nodes.\n",
    "\n",
    "`action_sequence_distance` computes the number of edits to the action sequence to make the two Sample's identical. Note that this only considers that the _name_ of the `Action`s are the same (eg two grinding steps with different durations will be considered equivalent)"
   ]
  },
  {
   "cell_type": "code",
   "execution_count": 51,
   "metadata": {},
   "outputs": [],
   "source": [
    "allsamples = list(sv._collection.find({}))"
   ]
  },
  {
   "cell_type": "code",
   "execution_count": 58,
   "metadata": {},
   "outputs": [],
   "source": [
    "import json\n",
    "from bson import ObjectId\n",
    "import datetime\n",
    "from alab_data import views\n",
    "\n",
    "class AlabEncoder(json.JSONEncoder):\n",
    "    def default(self, obj):\n",
    "        if isinstance(obj, datetime.datetime):\n",
    "            return obj.isoformat()\n",
    "        elif isinstance(obj, ObjectId):\n",
    "            return str(obj)\n",
    "        else:\n",
    "            return str(obj)\n",
    "\n",
    "temp = {\n",
    "    \"samples\": SampleView(),\n",
    "    \"actors\": views.ActorView(),\n",
    "    \"analysis_methods\": views.AnalysisMethodView(),\n",
    "    \"materials\": views.MaterialView(),\n",
    "    \"analyses\": views.AnalysisView(),\n",
    "    \"measurements\": views.MeasurementView(),\n",
    "    \"actions\": views.ActionView(),\n",
    "}\n",
    "\n",
    "for name, view in temp.items():\n",
    "    with open(name + \".json\", \"w\") as f:\n",
    "        f.write(json.dumps(list(view._collection.find({})), indent=4, cls=AlabEncoder))"
   ]
  },
  {
   "cell_type": "code",
   "execution_count": 46,
   "metadata": {},
   "outputs": [
    {
     "name": "stdout",
     "output_type": "stream",
     "text": [
      "[<Sample: realistic_sample>, <Sample: Chemical Procurement>]\n"
     ]
    },
    {
     "data": {
      "text/plain": [
       "5.0"
      ]
     },
     "execution_count": 46,
     "metadata": {},
     "output_type": "execute_result"
    }
   ],
   "source": [
    "from alab_data.data.groups import action_sequence_distance\n",
    "print(samples)\n",
    "\n",
    "action_sequence_distance(samples[1], samples[0]) "
   ]
  },
  {
   "cell_type": "markdown",
   "metadata": {},
   "source": [
    "### If we have a prototypical Sample (whether in the database or not), we can filter Sample lists to have the same action sequences"
   ]
  },
  {
   "cell_type": "markdown",
   "metadata": {},
   "source": [
    "Make the prototype sample"
   ]
  },
  {
   "cell_type": "code",
   "execution_count": 47,
   "metadata": {},
   "outputs": [],
   "source": [
    "# I know what was done by which actors, but thats about it.\n",
    "p1 = Action(\n",
    "    \"grind\",\n",
    "    actor=operator,\n",
    "    instrument=\"mortar and pestle\",\n",
    "    duration=\"1 hour\",\n",
    "    )\n",
    "p2 = Action(\n",
    "    \"sinter\", \n",
    "    actor=tubefurnace1, \n",
    "    temperature_celsius=1000,\n",
    "    duration_hours = 4,\n",
    ")\n",
    "p3 = Action(\n",
    "    \"grind\", \n",
    "    actor=operator, \n",
    "    final_step=True,\n",
    "    instrument=\"mortar and pestle\",\n",
    "    duration=\"1 hour\", #sounds like a rough day\n",
    "    )\n",
    "\n",
    "prototype_sample = Sample(\"whatever, we wont be uploading this\")\n",
    "prototype_sample.add_linear_process([p1, p2, p3])"
   ]
  },
  {
   "cell_type": "code",
   "execution_count": 48,
   "metadata": {},
   "outputs": [
    {
     "name": "stdout",
     "output_type": "stream",
     "text": [
      "<Sample: realistic_sample>:0.0\t Match!\n",
      "<Sample: Chemical Procurement>:5.0\t No Match\n"
     ]
    }
   ],
   "source": [
    "for s in samples:\n",
    "    d = action_sequence_distance(prototype_sample, s)\n",
    "    result = \"Match!\" if d == 0 else \"No Match\"\n",
    "    print(f\"{s}:{d}\\t {result}\")"
   ]
  },
  {
   "cell_type": "code",
   "execution_count": null,
   "metadata": {},
   "outputs": [],
   "source": []
  }
 ],
 "metadata": {
  "kernelspec": {
   "display_name": "Python 3.8.13 ('alab_data')",
   "language": "python",
   "name": "python3"
  },
  "language_info": {
   "codemirror_mode": {
    "name": "ipython",
    "version": 3
   },
   "file_extension": ".py",
   "mimetype": "text/x-python",
   "name": "python",
   "nbconvert_exporter": "python",
   "pygments_lexer": "ipython3",
   "version": "3.8.13"
  },
  "orig_nbformat": 4,
  "vscode": {
   "interpreter": {
    "hash": "af599ae762b5d1d52d04f722a25f712b8b0d8848f25ac2b5186d65c7fafecc4f"
   }
  }
 },
 "nbformat": 4,
 "nbformat_minor": 2
}
